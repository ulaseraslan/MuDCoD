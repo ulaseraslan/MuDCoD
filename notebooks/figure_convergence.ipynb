{
 "cells": [
  {
   "cell_type": "code",
   "execution_count": 1,
   "id": "d5287ced-d9f8-482f-9cc5-5014d09aa275",
   "metadata": {},
   "outputs": [
    {
     "name": "stdout",
     "output_type": "stream",
     "text": [
      "The autoreload extension is already loaded. To reload it, use:\n",
      "  %reload_ext autoreload\n"
     ]
    }
   ],
   "source": [
    "%load_ext autoreload\n",
    "%autoreload 2"
   ]
  },
  {
   "cell_type": "code",
   "execution_count": 42,
   "id": "dba66db5-50a0-4dd0-859f-a5fafe8aed70",
   "metadata": {},
   "outputs": [],
   "source": [
    "import matplotlib as mpl\n",
    "import seaborn as sns\n",
    "plt = mpl.pyplot"
   ]
  },
  {
   "cell_type": "code",
   "execution_count": 2,
   "id": "458493b8-892f-405f-b1c1-eec14b4d7feb",
   "metadata": {},
   "outputs": [],
   "source": [
    "import sys\n",
    "sys.path.append(\"../\")"
   ]
  },
  {
   "cell_type": "code",
   "execution_count": 23,
   "id": "29909369-fb19-4ccc-9d9a-fbff7787fd40",
   "metadata": {},
   "outputs": [],
   "source": [
    "import numpy as np\n",
    "\n",
    "from mudcod.muspces import MuSPCES\n",
    "from mudcod.dcbm import MuSDynamicDCBM, DynamicDCBM"
   ]
  },
  {
   "cell_type": "code",
   "execution_count": 11,
   "id": "6f1effd0-226c-4f2f-9713-c439611b8c17",
   "metadata": {},
   "outputs": [],
   "source": [
    "muspcesCD = MuSPCES(verbose=True)\n",
    "piscesCD = PisCES(verbose=True)"
   ]
  },
  {
   "cell_type": "code",
   "execution_count": 72,
   "id": "5bf9a212-e2f1-44b7-b7d0-696f0f463923",
   "metadata": {},
   "outputs": [],
   "source": [
    "ns = 8\n",
    "th = 4\n",
    "msdyn_dcbm = MuSDynamicDCBM(n=100, k=2, p_in=(0.25,0.25), p_out=0.1, r_time=0.2, r_subject=0.2, time_horizon=th, num_subjects=ns)"
   ]
  },
  {
   "cell_type": "code",
   "execution_count": 76,
   "id": "a8e08642-fa6d-416d-8f17-0214c4822c31",
   "metadata": {},
   "outputs": [],
   "source": [
    "alpha_base = np.ones((th,2))\n",
    "alpha_values =  [alpha_base * 0.05, alpha_base * 0.2]\n",
    "beta_base = np.ones(ns)\n",
    "beta_values =  [beta_base * 0.05, beta_base * 0.2]"
   ]
  },
  {
   "cell_type": "code",
   "execution_count": 77,
   "id": "6b897a77-60c2-49fb-b4c6-937e7fb9b638",
   "metadata": {
    "tags": []
   },
   "outputs": [
    {
     "name": "stdout",
     "output_type": "stream",
     "text": [
      "2021-09-16T16:47:28.921 MuSPCES-fit ~ #nodes:100, #time:4, #num-sbj:8\n",
      "2021-09-16T16:47:29.151 k_max is not provided, default value is floor(100/10).\n",
      "2021-09-16T16:47:29.154 MuSPCES-predict ~ alpha:0.05, beta:0.05, k_max:10, n_iter:50\n"
     ]
    },
    {
     "name": "stderr",
     "output_type": "stream",
     "text": [
      "../mudcod/muspces.py:142: ComplexWarning: Casting complex values to real discards the imaginary part\n",
      "  _, v_col[sbj, t, :, : k[sbj, t]] = eigs(adj_t, k=k[sbj, t], which=\"LM\")\n"
     ]
    },
    {
     "name": "stdout",
     "output_type": "stream",
     "text": [
      "2021-09-16T16:47:29.990 Value of objective funciton: 64.88430572674007, at iteration 1.\n"
     ]
    },
    {
     "name": "stderr",
     "output_type": "stream",
     "text": [
      "../mudcod/muspces.py:164: ComplexWarning: Casting complex values to real discards the imaginary part\n",
      "  adj_t, k=k[sbj, t], which=\"LM\"\n",
      "../mudcod/muspces.py:196: ComplexWarning: Casting complex values to real discards the imaginary part\n",
      "  s_t, k=k[sbj, t], which=\"LM\"\n",
      "../mudcod/muspces.py:179: ComplexWarning: Casting complex values to real discards the imaginary part\n",
      "  s_t, k=k[sbj, t], which=\"LM\"\n"
     ]
    },
    {
     "name": "stdout",
     "output_type": "stream",
     "text": [
      "2021-09-16T16:47:30.181 Value of objective funciton: 64.99936828822523, at iteration 2.\n",
      "2021-09-16T16:47:30.368 Value of objective funciton: 64.99997912796, at iteration 3.\n",
      "2021-09-16T16:47:30.782 k_max is not provided, default value is floor(100/10).\n",
      "2021-09-16T16:47:30.782 MuSPCES-predict ~ alpha:0.2, beta:0.2, k_max:10, n_iter:50\n"
     ]
    },
    {
     "name": "stderr",
     "output_type": "stream",
     "text": [
      "../mudcod/muspces.py:142: ComplexWarning: Casting complex values to real discards the imaginary part\n",
      "  _, v_col[sbj, t, :, : k[sbj, t]] = eigs(adj_t, k=k[sbj, t], which=\"LM\")\n",
      "../mudcod/muspces.py:164: ComplexWarning: Casting complex values to real discards the imaginary part\n",
      "  adj_t, k=k[sbj, t], which=\"LM\"\n"
     ]
    },
    {
     "name": "stdout",
     "output_type": "stream",
     "text": [
      "2021-09-16T16:47:31.149 Value of objective funciton: 63.99076966363337, at iteration 1.\n"
     ]
    },
    {
     "name": "stderr",
     "output_type": "stream",
     "text": [
      "../mudcod/muspces.py:196: ComplexWarning: Casting complex values to real discards the imaginary part\n",
      "  s_t, k=k[sbj, t], which=\"LM\"\n",
      "../mudcod/muspces.py:179: ComplexWarning: Casting complex values to real discards the imaginary part\n",
      "  s_t, k=k[sbj, t], which=\"LM\"\n"
     ]
    },
    {
     "name": "stdout",
     "output_type": "stream",
     "text": [
      "2021-09-16T16:47:31.330 Value of objective funciton: 64.94292530719198, at iteration 2.\n",
      "2021-09-16T16:47:31.504 Value of objective funciton: 64.9902644461352, at iteration 3.\n",
      "2021-09-16T16:47:31.696 Value of objective funciton: 64.99861103689102, at iteration 4.\n",
      "2021-09-16T16:47:31.877 Value of objective funciton: 64.9996915471694, at iteration 5.\n",
      "2021-09-16T16:47:32.279 Value of objective funciton: 64.99994597185677, at iteration 6.\n"
     ]
    }
   ],
   "source": [
    "msadj_msdyn_case0, _ = msdyn_dcbm.simulate_ms_dynamic_dcbm(case=0)\n",
    "muspcesCD.fit(msadj_msdyn_case0) \n",
    "muspcesCD.predict(alpha=alpha_values[0], beta=beta_values[0], n_iter=50, monitor_convergence=True)\n",
    "conv_case0_a1b1 = [m[0] for m in muspcesCD.convergence_monitor]\n",
    "muspcesCD.predict(alpha=alpha_values[1], beta=beta_values[1], n_iter=50, monitor_convergence=True)\n",
    "conv_case0_a2b2 = [m[0] for m in muspcesCD.convergence_monitor]"
   ]
  },
  {
   "cell_type": "code",
   "execution_count": 78,
   "id": "d357c73e-a170-4425-b3a4-a5f724013d8e",
   "metadata": {},
   "outputs": [
    {
     "data": {
      "text/plain": [
       "[<matplotlib.lines.Line2D at 0x7ff0983c1f10>]"
      ]
     },
     "execution_count": 78,
     "metadata": {},
     "output_type": "execute_result"
    },
    {
     "data": {
      "image/png": "[encoded data removed]",
      "text/plain": [
       "<Figure size 432x288 with 1 Axes>"
      ]
     },
     "metadata": {
      "needs_background": "light"
     },
     "output_type": "display_data"
    }
   ],
   "source": [
    "plt.plot(conv_case0_a1b1)\n",
    "plt.plot(conv_case0_a2b2)"
   ]
  },
  {
   "cell_type": "code",
   "execution_count": 79,
   "id": "38704995-9824-4059-b9e9-2f4567fe72a9",
   "metadata": {
    "tags": []
   },
   "outputs": [
    {
     "name": "stdout",
     "output_type": "stream",
     "text": [
      "2021-09-16T16:48:11.188 MuSPCES-fit ~ #nodes:100, #time:4, #num-sbj:8\n",
      "2021-09-16T16:48:11.263 k_max is not provided, default value is floor(100/10).\n",
      "2021-09-16T16:48:11.264 MuSPCES-predict ~ alpha:0.05, beta:0.05, k_max:10, n_iter:50\n"
     ]
    },
    {
     "name": "stderr",
     "output_type": "stream",
     "text": [
      "../mudcod/muspces.py:142: ComplexWarning: Casting complex values to real discards the imaginary part\n",
      "  _, v_col[sbj, t, :, : k[sbj, t]] = eigs(adj_t, k=k[sbj, t], which=\"LM\")\n"
     ]
    },
    {
     "name": "stdout",
     "output_type": "stream",
     "text": [
      "2021-09-16T16:48:11.878 Value of objective funciton: 63.84392051778916, at iteration 1.\n"
     ]
    },
    {
     "name": "stderr",
     "output_type": "stream",
     "text": [
      "../mudcod/muspces.py:164: ComplexWarning: Casting complex values to real discards the imaginary part\n",
      "  adj_t, k=k[sbj, t], which=\"LM\"\n",
      "../mudcod/muspces.py:196: ComplexWarning: Casting complex values to real discards the imaginary part\n",
      "  s_t, k=k[sbj, t], which=\"LM\"\n",
      "../mudcod/muspces.py:179: ComplexWarning: Casting complex values to real discards the imaginary part\n",
      "  s_t, k=k[sbj, t], which=\"LM\"\n"
     ]
    },
    {
     "name": "stdout",
     "output_type": "stream",
     "text": [
      "2021-09-16T16:48:12.072 Value of objective funciton: 63.99715454047148, at iteration 2.\n",
      "2021-09-16T16:48:12.352 Value of objective funciton: 63.9998866390909, at iteration 3.\n",
      "2021-09-16T16:48:12.661 Value of objective funciton: 63.99999569636431, at iteration 4.\n",
      "2021-09-16T16:48:13.243 k_max is not provided, default value is floor(100/10).\n",
      "2021-09-16T16:48:13.244 MuSPCES-predict ~ alpha:0.2, beta:0.2, k_max:10, n_iter:50\n"
     ]
    },
    {
     "name": "stderr",
     "output_type": "stream",
     "text": [
      "../mudcod/muspces.py:142: ComplexWarning: Casting complex values to real discards the imaginary part\n",
      "  _, v_col[sbj, t, :, : k[sbj, t]] = eigs(adj_t, k=k[sbj, t], which=\"LM\")\n",
      "../mudcod/muspces.py:164: ComplexWarning: Casting complex values to real discards the imaginary part\n",
      "  adj_t, k=k[sbj, t], which=\"LM\"\n"
     ]
    },
    {
     "name": "stdout",
     "output_type": "stream",
     "text": [
      "2021-09-16T16:48:13.621 Value of objective funciton: 62.40289560175432, at iteration 1.\n"
     ]
    },
    {
     "name": "stderr",
     "output_type": "stream",
     "text": [
      "../mudcod/muspces.py:196: ComplexWarning: Casting complex values to real discards the imaginary part\n",
      "  s_t, k=k[sbj, t], which=\"LM\"\n",
      "../mudcod/muspces.py:179: ComplexWarning: Casting complex values to real discards the imaginary part\n",
      "  s_t, k=k[sbj, t], which=\"LM\"\n"
     ]
    },
    {
     "name": "stdout",
     "output_type": "stream",
     "text": [
      "2021-09-16T16:48:13.792 Value of objective funciton: 63.903375576104146, at iteration 2.\n",
      "2021-09-16T16:48:13.966 Value of objective funciton: 63.98429256662709, at iteration 3.\n",
      "2021-09-16T16:48:14.135 Value of objective funciton: 63.99764337613551, at iteration 4.\n",
      "2021-09-16T16:48:14.342 Value of objective funciton: 63.99943213860659, at iteration 5.\n",
      "2021-09-16T16:48:14.545 Value of objective funciton: 63.99987690558664, at iteration 6.\n"
     ]
    }
   ],
   "source": [
    "msadj_msdyn_case3, _ = msdyn_dcbm.simulate_ms_dynamic_dcbm(case=3)\n",
    "muspcesCD.fit(msadj_msdyn_case3) \n",
    "muspcesCD.predict(alpha=alpha_values[0], beta=beta_values[0], n_iter=50, monitor_convergence=True)\n",
    "conv_case3_a1b1 = [m[0] for m in muspcesCD.convergence_monitor]\n",
    "muspcesCD.predict(alpha=alpha_values[1], beta=beta_values[1], n_iter=50, monitor_convergence=True)\n",
    "conv_case3_a2b2 = [m[0] for m in muspcesCD.convergence_monitor]"
   ]
  },
  {
   "cell_type": "code",
   "execution_count": 80,
   "id": "9bdc0e36-1ab2-40b2-8315-66c184088652",
   "metadata": {},
   "outputs": [
    {
     "data": {
      "text/plain": [
       "[<matplotlib.lines.Line2D at 0x7ff0aaf44810>]"
      ]
     },
     "execution_count": 80,
     "metadata": {},
     "output_type": "execute_result"
    },
    {
     "data": {
      "image/png": "[encoded data removed]",
      "text/plain": [
       "<Figure size 432x288 with 1 Axes>"
      ]
     },
     "metadata": {
      "needs_background": "light"
     },
     "output_type": "display_data"
    }
   ],
   "source": [
    "plt.plot(conv_case3_a1b1)\n",
    "plt.plot(conv_case3_a2b2)"
   ]
  }
 ],
 "metadata": {
  "kernelspec": {
   "display_name": "Python 3",
   "language": "python",
   "name": "python3"
  },
  "language_info": {
   "codemirror_mode": {
    "name": "ipython",
    "version": 3
   },
   "file_extension": ".py",
   "mimetype": "text/x-python",
   "name": "python",
   "nbconvert_exporter": "python",
   "pygments_lexer": "ipython3",
   "version": "3.7.9"
  }
 },
 "nbformat": 4,
 "nbformat_minor": 5
}
