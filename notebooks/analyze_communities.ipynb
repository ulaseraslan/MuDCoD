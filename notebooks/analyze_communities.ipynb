{
 "cells": [
  {
   "cell_type": "code",
   "execution_count": 31,
   "id": "1feaf01f-17f2-4500-a726-7ffbbdce540e",
   "metadata": {},
   "outputs": [],
   "source": [
    "import yaml\n",
    "import numpy as np\n",
    "import seaborn as sns\n",
    "import matplotlib.pyplot as plt\n",
    "from sklearn.metrics.cluster import adjusted_rand_score\n",
    "from sklearn.metrics.cluster import homogeneity_score\n",
    "from sklearn.metrics.cluster import completeness_score\n",
    "from sklearn.metrics.cluster import mutual_info_score\n",
    "from sklearn.metrics.cluster import normalized_mutual_info_score\n",
    "from sklearn.metrics.cluster import adjusted_mutual_info_score\n",
    "from sklearn.metrics.cluster import fowlkes_mallows_score\n",
    "cmetric = normalized_mutual_info_score\n",
    "from sklearn.metrics import confusion_matrix"
   ]
  },
  {
   "cell_type": "code",
   "execution_count": 32,
   "id": "fd0bcf02-ae72-406c-b6fd-b888a2c785c9",
   "metadata": {},
   "outputs": [],
   "source": [
    "pred_communities = np.load(\"../results/Epen1/p95/pred_communities.npy\").astype(int)\n",
    "with open(\"../data/cell-type-specific/Epen1-networks/adj/p95/msdyn_nw_details.yaml\", \"r\") as outfile:\n",
    "    msdyn_nw_details = yaml.load(outfile, Loader=yaml.SafeLoader)"
   ]
  },
  {
   "cell_type": "code",
   "execution_count": 33,
   "id": "bfad0a2e-d88d-4670-a2c9-8c203767875b",
   "metadata": {},
   "outputs": [],
   "source": [
    "donor_idx_keys = sorted(msdyn_nw_details[\"donor_indices\"].keys())"
   ]
  },
  {
   "cell_type": "code",
   "execution_count": 34,
   "id": "6911ce12-b46b-4c55-87d3-fa4295849c58",
   "metadata": {},
   "outputs": [
    {
     "data": {
      "text/plain": [
       "(8, 2, 2475)"
      ]
     },
     "execution_count": 34,
     "metadata": {},
     "output_type": "execute_result"
    }
   ],
   "source": [
    "pred_communities.shape"
   ]
  },
  {
   "cell_type": "code",
   "execution_count": 35,
   "id": "0f27dc30-478a-43a3-9f95-27d60467ffdb",
   "metadata": {},
   "outputs": [],
   "source": [
    "uniq, uniq_counts = np.unique(pred_communities[0,0,:], return_counts=True)"
   ]
  },
  {
   "cell_type": "markdown",
   "id": "38728ffd-d82c-4058-8bc0-431267fc1a87",
   "metadata": {
    "tags": []
   },
   "source": [
    "for i in range(pred_communities.shape[0]):\n",
    "    fig, axes = plt.subplots(nrows=1, ncols=2, figsize=(32,8))\n",
    "    axes[0].set_title(\"time step 1\")\n",
    "    axes[1].set_title(\"time step 2\")\n",
    "    axes[0].set_xticklabels(axes[0].get_xticklabels(), rotation = 90)\n",
    "    axes[1].set_xticklabels(axes[1].get_xticklabels(), rotation = 90)\n",
    "    sns.countplot(pred_communities[i,0,:], palette=\"tab20\", ax=axes[0])\n",
    "    sns.countplot(pred_communities[i,1,:], palette=\"tab20\", ax=axes[1])\n",
    "    donor_name = msdyn_nw_details[\"donor_indices\"][donor_idx_keys[i]]\n",
    "    plt.suptitle(f\"Subject-{donor_name}\")"
   ]
  },
  {
   "cell_type": "raw",
   "id": "03ceef02-3e19-4e2b-b6fc-34eacbf97de6",
   "metadata": {},
   "source": [
    "HPSI0114i-eipl_1: 0.01287834972\n",
    "HPSI0115i-aoxv_1: 0.2212521826\n",
    "HPSI0115i-timk_4: 0.04200897773\n",
    "HPSI0414i-mita_1: NaN\n",
    "HPSI0514i-fiaj_1: 0.06109600101\n",
    "HPSI0714i-keui_4: 0.06964129484\n",
    "HPSI0715i-aowh_2: 0.6208232953\n",
    "HPSI1013i-hiaf_1: 0.4662173557"
   ]
  },
  {
   "cell_type": "code",
   "execution_count": 36,
   "id": "652b24d4-1a4e-4b7f-a5fc-b649204ca3c6",
   "metadata": {},
   "outputs": [
    {
     "name": "stdout",
     "output_type": "stream",
     "text": [
      "ARI of time step 1 and time step 2 for HPSI0114i-eipl_1 is 0.256\n",
      "ARI of time step 1 and time step 2 for HPSI0115i-aoxv_1 is 0.215\n",
      "ARI of time step 1 and time step 2 for HPSI0115i-timk_4 is 0.298\n",
      "ARI of time step 1 and time step 2 for HPSI0414i-mita_1 is 0.312\n",
      "ARI of time step 1 and time step 2 for HPSI0514i-fiaj_1 is 0.308\n",
      "ARI of time step 1 and time step 2 for HPSI0714i-keui_4 is 0.211\n",
      "ARI of time step 1 and time step 2 for HPSI0715i-aowh_2 is 0.207\n",
      "ARI of time step 1 and time step 2 for HPSI1013i-hiaf_1 is 0.222\n"
     ]
    }
   ],
   "source": [
    "sum_t = 0\n",
    "for i in range(pred_communities.shape[0]):\n",
    "    ari = cmetric(pred_communities[i,0,:],pred_communities[i,1,:])\n",
    "    donor_name = msdyn_nw_details[\"donor_indices\"][donor_idx_keys[i]]\n",
    "    print(f\"ARI of time step 1 and time step 2 for {donor_name} is {round(ari,3)}\")\n",
    "    sum_t += ari"
   ]
  },
  {
   "cell_type": "code",
   "execution_count": 37,
   "id": "d14d2e2e-f89e-4565-a92b-d2cfb77682be",
   "metadata": {},
   "outputs": [
    {
     "data": {
      "text/plain": [
       "0.2534868323218924"
      ]
     },
     "execution_count": 37,
     "metadata": {},
     "output_type": "execute_result"
    }
   ],
   "source": [
    "sum_t/pred_communities.shape[0]"
   ]
  },
  {
   "cell_type": "raw",
   "id": "5014f499-feda-411e-aa94-d39f67960b5d",
   "metadata": {},
   "source": [
    "HPSI0114i-eipl_1: 0.01287834972\n",
    "HPSI0115i-aoxv_1: 0.2212521826\n",
    "HPSI0115i-timk_4: 0.04200897773\n",
    "HPSI0414i-mita_1: \n",
    "HPSI0514i-fiaj_1: 0.06109600101\n",
    "HPSI0714i-keui_4: 0.06964129484\n",
    "HPSI0715i-aowh_2: 0.6208232953\n",
    "HPSI1013i-hiaf_1: 0.4662173557"
   ]
  },
  {
   "cell_type": "code",
   "execution_count": 38,
   "id": "61311e99-3979-4b10-bba7-4c47908645f9",
   "metadata": {
    "tags": []
   },
   "outputs": [],
   "source": [
    "sum1 = 0\n",
    "sum2 = 0\n",
    "measure_sbj_dict = {}\n",
    "for i in range(pred_communities.shape[0]):\n",
    "    donor_name_i = msdyn_nw_details[\"donor_indices\"][donor_idx_keys[i]]\n",
    "    measure_sbj_dict[donor_name_i] = {}\n",
    "    \n",
    "    for j in range(pred_communities.shape[0]):\n",
    "        ari1 = cmetric(pred_communities[i,0,:],pred_communities[j,0,:], average_method=\"max\")\n",
    "        donor_name_j = msdyn_nw_details[\"donor_indices\"][donor_idx_keys[j]]\n",
    "        #print(f\"ARI of {donor_name_i} and {donor_name_j} is {round(ari1,3)} at time step 1\")\n",
    "        ari2 = cmetric(pred_communities[i,1,:],pred_communities[j,1,:], average_method=\"max\")\n",
    "        #print(f\"ARI of {donor_name_i} and {donor_name_j} is {round(ari2,3)} at time step 2\")\n",
    "        if i!=j:\n",
    "            sum1 += ari1\n",
    "            sum2 += ari2\n",
    "            measure_sbj_dict[donor_name_i][donor_name_j] = {1: ari1, 2:ari2}"
   ]
  },
  {
   "cell_type": "raw",
   "id": "8765f825-1e3f-462b-962d-70188c83e022",
   "metadata": {},
   "source": [
    "HPSI0114i-eipl_1: 0.01287834972\n",
    "HPSI0115i-aoxv_1: 0.2212521826\n",
    "HPSI0115i-timk_4: 0.04200897773\n",
    "HPSI0414i-mita_1: \n",
    "HPSI0514i-fiaj_1: 0.06109600101\n",
    "HPSI0714i-keui_4: 0.06964129484\n",
    "HPSI0715i-aowh_2: 0.6208232953\n",
    "HPSI1013i-hiaf_1: 0.4662173557"
   ]
  },
  {
   "cell_type": "code",
   "execution_count": 39,
   "id": "9d0a1ba7-c565-4d35-97fe-abb018bb3026",
   "metadata": {},
   "outputs": [],
   "source": [
    "low_diff = [\"HPSI0714i-keui_4\", \"HPSI0514i-fiaj_1\", \"HPSI0115i-timk_4\", \"HPSI0114i-eipl_1\"]\n",
    "high_diff = [\"HPSI0715i-aowh_2\", \"HPSI1013i-hiaf_1\", \"HPSI0115i-aoxv_1\"]"
   ]
  },
  {
   "cell_type": "code",
   "execution_count": 40,
   "id": "2e4a8c3f-a58d-4dc0-be6a-4ce28e7fba0d",
   "metadata": {
    "tags": []
   },
   "outputs": [
    {
     "name": "stdout",
     "output_type": "stream",
     "text": [
      "FOR LOW, both time step:\n",
      "\n",
      "low: HPSI0714i-keui_4 0.27805316309445327\n",
      "high: HPSI0714i-keui_4 0.22834717136380506\n",
      "\n",
      "\n",
      "low: HPSI0514i-fiaj_1 0.32511729106728177\n",
      "high: HPSI0514i-fiaj_1 0.24928223289093593\n",
      "\n",
      "\n",
      "low: HPSI0115i-timk_4 0.3208488827662866\n",
      "high: HPSI0115i-timk_4 0.2637999473154303\n",
      "\n",
      "\n",
      "low: HPSI0114i-eipl_1 0.2828613150264171\n",
      "high: HPSI0114i-eipl_1 0.2139298390359597\n",
      "\n",
      "\n",
      "AVG LOW: 0.3017201629886097\n",
      "AVG HIGH: 0.23883979765153274\n"
     ]
    }
   ],
   "source": [
    "print(\"FOR LOW, both time step:\\n\")\n",
    "sum_all_high = 0\n",
    "sum_all_low = 0\n",
    "\n",
    "low_low_dict = {}\n",
    "low_high_dict = {}\n",
    "for low_key_i in low_diff:\n",
    "    sum_low = 0\n",
    "    for low_key_j in low_diff:\n",
    "        if low_key_j != low_key_i:\n",
    "            sum_low += (measure_sbj_dict[low_key_i][low_key_j][1] + measure_sbj_dict[low_key_i][low_key_j][2]) / (len(2*low_diff)  -2)\n",
    "    print(\"low:\", low_key_i, sum_low)\n",
    "    low_low_dict[low_key_i] = sum_low\n",
    "    sum_all_low += sum_low\n",
    "    sum_high = 0\n",
    "    for high_key_j in high_diff:\n",
    "        sum_high += (measure_sbj_dict[low_key_i][high_key_j][1] + measure_sbj_dict[low_key_i][high_key_j][2]) / len(2*high_diff)\n",
    "    print(\"high:\", low_key_i, sum_high)\n",
    "    low_high_dict[low_key_i] = sum_high\n",
    "    sum_all_high += sum_high\n",
    "    print(\"\\n\")\n",
    "print(\"AVG LOW:\", sum_all_low/len(low_diff))\n",
    "print(\"AVG HIGH:\", sum_all_high/len(low_diff))"
   ]
  },
  {
   "cell_type": "code",
   "execution_count": 41,
   "id": "b82658da-67f8-4026-8dca-2948639f677f",
   "metadata": {
    "jupyter": {
     "source_hidden": true
    },
    "tags": []
   },
   "outputs": [
    {
     "name": "stdout",
     "output_type": "stream",
     "text": [
      "FOR LOW, time step 1:\n",
      "\n",
      "low: HPSI0714i-keui_4 0.2537608439423268\n",
      "high: HPSI0714i-keui_4 0.2104986861933979\n",
      "\n",
      "\n",
      "low: HPSI0514i-fiaj_1 0.27822927959266713\n",
      "high: HPSI0514i-fiaj_1 0.24050300177479353\n",
      "\n",
      "\n",
      "low: HPSI0115i-timk_4 0.30340943945981685\n",
      "high: HPSI0115i-timk_4 0.2787541626058037\n",
      "\n",
      "\n",
      "low: HPSI0114i-eipl_1 0.2589458377670621\n",
      "high: HPSI0114i-eipl_1 0.2165202589995986\n",
      "\n",
      "\n",
      "AVG LOW: 0.27358635019046823\n",
      "AVG HIGH: 0.23656902739339844\n"
     ]
    }
   ],
   "source": [
    "print(\"FOR LOW, time step 1:\\n\")\n",
    "sum_all_high = 0\n",
    "sum_all_low = 0\n",
    "for low_key_i in low_diff:\n",
    "    sum_low = 0\n",
    "    for low_key_j in low_diff:\n",
    "        if low_key_j != low_key_i:\n",
    "            sum_low += (measure_sbj_dict[low_key_i][low_key_j][1]) / (len(low_diff)-1)\n",
    "    print(\"low:\", low_key_i, sum_low)\n",
    "    sum_all_low += sum_low\n",
    "    sum_high = 0\n",
    "    for high_key_j in high_diff:\n",
    "        sum_high += (measure_sbj_dict[low_key_i][high_key_j][1]) / len(high_diff)\n",
    "    print(\"high:\", low_key_i, sum_high)\n",
    "    sum_all_high += sum_high\n",
    "    print(\"\\n\")\n",
    "print(\"AVG LOW:\", sum_all_low/len(low_diff))\n",
    "print(\"AVG HIGH:\", sum_all_high/len(low_diff))"
   ]
  },
  {
   "cell_type": "code",
   "execution_count": 42,
   "id": "67820105-4887-4f0c-b651-0c254799e80e",
   "metadata": {
    "jupyter": {
     "source_hidden": true
    },
    "tags": []
   },
   "outputs": [
    {
     "name": "stdout",
     "output_type": "stream",
     "text": [
      "FOR LOW, time step 2:\n",
      "\n",
      "low: HPSI0714i-keui_4 0.3023454822465797\n",
      "high: HPSI0714i-keui_4 0.24619565653421221\n",
      "\n",
      "\n",
      "low: HPSI0514i-fiaj_1 0.37200530254189645\n",
      "high: HPSI0514i-fiaj_1 0.2580614640070784\n",
      "\n",
      "\n",
      "low: HPSI0115i-timk_4 0.33828832607275633\n",
      "high: HPSI0115i-timk_4 0.248845732025057\n",
      "\n",
      "\n",
      "low: HPSI0114i-eipl_1 0.30677679228577204\n",
      "high: HPSI0114i-eipl_1 0.21133941907232073\n",
      "\n",
      "\n",
      "AVG LOW: 0.32985397578675113\n",
      "AVG HIGH: 0.24111056790966712\n"
     ]
    }
   ],
   "source": [
    "print(\"FOR LOW, time step 2:\\n\")\n",
    "sum_all_high = 0\n",
    "sum_all_low = 0\n",
    "for low_key_i in low_diff:\n",
    "    sum_low = 0\n",
    "    for low_key_j in low_diff:\n",
    "        if low_key_j != low_key_i:\n",
    "            sum_low += (measure_sbj_dict[low_key_i][low_key_j][2]) / (len(low_diff)  -1)\n",
    "    print(\"low:\", low_key_i, sum_low)\n",
    "    sum_all_low += sum_low\n",
    "    sum_high = 0\n",
    "    for high_key_j in high_diff:\n",
    "        sum_high += (measure_sbj_dict[low_key_i][high_key_j][2]) / len(high_diff)\n",
    "    print(\"high:\", low_key_i, sum_high)\n",
    "    sum_all_high += sum_high\n",
    "    print(\"\\n\")\n",
    "print(\"AVG LOW:\", sum_all_low/len(low_diff))\n",
    "print(\"AVG HIGH:\", sum_all_high/len(low_diff))"
   ]
  },
  {
   "cell_type": "code",
   "execution_count": 43,
   "id": "6c8c07de-0275-4f64-83a9-bb40ff76bb98",
   "metadata": {
    "tags": []
   },
   "outputs": [
    {
     "name": "stdout",
     "output_type": "stream",
     "text": [
      "FOR HIGH, both time step:\n",
      "\n",
      "low: HPSI0114i-eipl_1 0.234411277246421\n",
      "high: HPSI0114i-eipl_1 0.2575297913001129\n",
      "\n",
      "\n",
      "low: HPSI0114i-eipl_1 0.2339244794930525\n",
      "high: HPSI0114i-eipl_1 0.2547596830465022\n",
      "\n",
      "\n",
      "low: HPSI0114i-eipl_1 0.24818363621512476\n",
      "high: HPSI0114i-eipl_1 0.2690361835640309\n",
      "\n",
      "\n",
      "AVG LOW: 0.23883979765153274\n",
      "AVG HIGH: 0.26044188597021534\n"
     ]
    }
   ],
   "source": [
    "print(\"FOR HIGH, both time step:\\n\")\n",
    "sum_all_high = 0\n",
    "sum_all_low = 0\n",
    "high_high_dict = {}\n",
    "high_low_dict = {}\n",
    "for high_key_i in high_diff:\n",
    "    sum_low = 0\n",
    "    for low_key_j in low_diff:\n",
    "        sum_low += (measure_sbj_dict[high_key_i][low_key_j][1] + measure_sbj_dict[high_key_i][low_key_j][2]) / len(2*low_diff)  \n",
    "    print(\"low:\", low_key_i, sum_low)\n",
    "    sum_all_low += sum_low\n",
    "    sum_high = 0\n",
    "    for high_key_j in high_diff:\n",
    "        if high_key_i != high_key_j:\n",
    "            sum_high += (measure_sbj_dict[high_key_i][high_key_j][1] + measure_sbj_dict[high_key_i][high_key_j][2]) / (len(2*high_diff) -2 )\n",
    "    print(\"high:\", low_key_i, sum_high)\n",
    "    high_high_dict[high_key_i] = sum_high\n",
    "\n",
    "    high_low_dict[high_key_i] = sum_low\n",
    "    sum_all_high += sum_high\n",
    "    print(\"\\n\")    \n",
    "print(\"AVG LOW:\", sum_all_low/len(high_diff))\n",
    "print(\"AVG HIGH:\", sum_all_high/len(high_diff))"
   ]
  },
  {
   "cell_type": "code",
   "execution_count": 44,
   "id": "30a54ca0-3751-4609-82e1-1268d7a0d00b",
   "metadata": {
    "jupyter": {
     "source_hidden": true
    },
    "tags": []
   },
   "outputs": [
    {
     "name": "stdout",
     "output_type": "stream",
     "text": [
      "FOR HIGH, time step 1:\n",
      "\n",
      "low: HPSI0114i-eipl_1 0.20698075644383795\n",
      "high: HPSI0114i-eipl_1 0.2338032716853669\n",
      "\n",
      "\n",
      "low: HPSI0114i-eipl_1 0.24913382882741825\n",
      "high: HPSI0114i-eipl_1 0.2566490700745282\n",
      "\n",
      "\n",
      "low: HPSI0114i-eipl_1 0.25359249690893915\n",
      "high: HPSI0114i-eipl_1 0.25509037136742546\n",
      "\n",
      "\n",
      "AVG LOW: 0.23656902739339847\n",
      "AVG HIGH: 0.24851423770910686\n"
     ]
    }
   ],
   "source": [
    "print(\"FOR HIGH, time step 1:\\n\")\n",
    "sum_all_high = 0\n",
    "sum_all_low = 0\n",
    "for high_key_i in high_diff:\n",
    "    sum_low = 0\n",
    "    for low_key_j in low_diff:\n",
    "        sum_low += (measure_sbj_dict[high_key_i][low_key_j][1]) / len(low_diff)  \n",
    "    print(\"low:\", low_key_i, sum_low)\n",
    "    sum_all_low += sum_low\n",
    "    sum_high = 0\n",
    "    for high_key_j in high_diff:\n",
    "        if high_key_i != high_key_j:\n",
    "            sum_high += (measure_sbj_dict[high_key_i][high_key_j][1]) / (len(high_diff)-1)\n",
    "    print(\"high:\", low_key_i, sum_high)\n",
    "    sum_all_high += sum_high\n",
    "    print(\"\\n\")\n",
    "print(\"AVG LOW:\", sum_all_low/len(high_diff))\n",
    "print(\"AVG HIGH:\", sum_all_high/len(high_diff))"
   ]
  },
  {
   "cell_type": "code",
   "execution_count": 45,
   "id": "635831c1-dab1-42a7-9c4c-70b9e450da53",
   "metadata": {
    "jupyter": {
     "source_hidden": true
    },
    "tags": []
   },
   "outputs": [
    {
     "name": "stdout",
     "output_type": "stream",
     "text": [
      "FOR HIGH, time step 2:\n",
      "\n",
      "low: HPSI0715i-aowh_2 0.26184179804900404\n",
      "high: HPSI0715i-aowh_2 0.28125631091485886\n",
      "\n",
      "\n",
      "low: HPSI1013i-hiaf_1 0.21871513015868682\n",
      "high: HPSI1013i-hiaf_1 0.25287029601847627\n",
      "\n",
      "\n",
      "low: HPSI0115i-aoxv_1 0.24277477552131038\n",
      "high: HPSI0115i-aoxv_1 0.2829819957606363\n",
      "\n",
      "\n",
      "AVG LOW: 0.2411105679096671\n",
      "AVG HIGH: 0.2723695342313238\n"
     ]
    }
   ],
   "source": [
    "print(\"FOR HIGH, time step 2:\\n\")\n",
    "sum_all_high = 0\n",
    "sum_all_low = 0\n",
    "for high_key_i in high_diff:\n",
    "    sum_low = 0\n",
    "    for low_key_j in low_diff:\n",
    "        sum_low += (measure_sbj_dict[high_key_i][low_key_j][2]) / len(low_diff)  \n",
    "    print(\"low:\", high_key_i, sum_low)\n",
    "    sum_all_low += sum_low\n",
    "    sum_high = 0\n",
    "    for high_key_j in high_diff:\n",
    "        if high_key_i != high_key_j:\n",
    "            sum_high += (measure_sbj_dict[high_key_i][high_key_j][2]) / (len(high_diff)-1)\n",
    "    print(\"high:\", high_key_i, sum_high)\n",
    "    sum_all_high += sum_high\n",
    "    print(\"\\n\")\n",
    "print(\"AVG LOW:\", sum_all_low/len(high_diff))\n",
    "print(\"AVG HIGH:\", sum_all_high/len(high_diff))"
   ]
  },
  {
   "cell_type": "code",
   "execution_count": 46,
   "id": "7e795474-84ff-4963-9d91-a132d0973f0e",
   "metadata": {},
   "outputs": [
    {
     "data": {
      "text/plain": [
       "{'HPSI0115i-aoxv_1': {1: 0.22123326443008587, 2: 0.20176974237284567},\n",
       " 'HPSI0115i-timk_4': {1: 0.28629674972770586, 2: 0.30347158236194716},\n",
       " 'HPSI0414i-mita_1': {1: 0.25636238110041865, 2: 0.2623610724774641},\n",
       " 'HPSI0514i-fiaj_1': {1: 0.24748119138648594, 2: 0.3588902544346988},\n",
       " 'HPSI0714i-keui_4': {1: 0.2430595721869945, 2: 0.2579685400606702},\n",
       " 'HPSI0715i-aowh_2': {1: 0.19396298334585763, 2: 0.22966658976026436},\n",
       " 'HPSI1013i-hiaf_1': {1: 0.23436452922285222, 2: 0.20258192508385223}}"
      ]
     },
     "execution_count": 46,
     "metadata": {},
     "output_type": "execute_result"
    }
   ],
   "source": [
    "measure_sbj_dict[\"HPSI0114i-eipl_1\"]"
   ]
  },
  {
   "cell_type": "code",
   "execution_count": 47,
   "id": "fbfe3916-a139-4948-994b-e012be4f8559",
   "metadata": {},
   "outputs": [
    {
     "data": {
      "text/plain": [
       "{'HPSI0114i-eipl_1': {1: 1.6827606714004006, 2: 1.8167097065517426},\n",
       " 'HPSI0115i-aoxv_1': {1: 1.8488341436597784, 2: 1.842883374829132},\n",
       " 'HPSI0115i-timk_4': {1: 2.121083005285643, 2: 2.064091812445008},\n",
       " 'HPSI0414i-mita_1': {1: 2.1573092416063546, 2: 2.0465833619787803},\n",
       " 'HPSI0514i-fiaj_1': {1: 1.869006189761886, 2: 2.1982885302642776},\n",
       " 'HPSI0714i-keui_4': {1: 1.6589923322453637, 2: 1.9186442936178079},\n",
       " 'HPSI0715i-aowh_2': {1: 1.5600513887216791, 2: 1.9412387003669314},\n",
       " 'HPSI1013i-hiaf_1': {1: 1.868359796513426, 2: 1.6438454885648477}}"
      ]
     },
     "execution_count": 47,
     "metadata": {},
     "output_type": "execute_result"
    }
   ],
   "source": [
    "sum_measure_dict = {}\n",
    "all_sum1 = 0\n",
    "all_sum2 = 0\n",
    "for key, values in measure_sbj_dict.items():\n",
    "    sum1 = 0\n",
    "    sum2 = 0\n",
    "    for val in values.values():\n",
    "        sum1 += val[1]\n",
    "        sum2 += val[2]\n",
    "    all_sum1 += sum1\n",
    "    all_sum2 += sum2\n",
    "    sum_measure_dict[key] = {1: sum1, 2:sum2}    \n",
    "sum_measure_dict"
   ]
  },
  {
   "cell_type": "code",
   "execution_count": 48,
   "id": "10fbdc24-ec38-4478-b86e-05a9a4b3b3af",
   "metadata": {},
   "outputs": [
    {
     "data": {
      "text/plain": [
       "0.2699882324804737"
      ]
     },
     "execution_count": 48,
     "metadata": {},
     "output_type": "execute_result"
    }
   ],
   "source": [
    "(all_sum1+all_sum2)/(2*(pred_communities.shape[0]*(pred_communities.shape[0]-1)))"
   ]
  },
  {
   "cell_type": "raw",
   "id": "8e754559-52e1-4ab6-ae95-7fdc0d817f98",
   "metadata": {},
   "source": [
    "sns.set(rc={'figure.figsize':(20,20)})\n",
    "ax.set_title(f'Between {msdyn_nw_details[\"donor_indices\"][donor_idx_keys[-1]]} and {msdyn_nw_details[\"donor_indices\"][donor_idx_keys[0]]} time step 1')\n",
    "sns.heatmap(confusion_matrix(pred_communities[-1,0,:],pred_communities[0,0,:], normalize=\"all\"), annot=True, ax=ax)"
   ]
  },
  {
   "cell_type": "code",
   "execution_count": 49,
   "id": "e4a587aa-4939-4d6b-a84d-e3e6d3051063",
   "metadata": {},
   "outputs": [
    {
     "data": {
      "text/plain": [
       "{'HPSI0714i-keui_4': 0.22834717136380506,\n",
       " 'HPSI0514i-fiaj_1': 0.24928223289093593,\n",
       " 'HPSI0115i-timk_4': 0.2637999473154303,\n",
       " 'HPSI0114i-eipl_1': 0.2139298390359597}"
      ]
     },
     "execution_count": 49,
     "metadata": {},
     "output_type": "execute_result"
    }
   ],
   "source": [
    "high_high_dict\n",
    "high_low_dict\n",
    "low_low_dict\n",
    "low_high_dict"
   ]
  },
  {
   "cell_type": "code",
   "execution_count": 50,
   "id": "956dea0c-8cb8-4c4c-9334-4edb2d17e5d1",
   "metadata": {},
   "outputs": [
    {
     "data": {
      "text/plain": [
       "{'HPSI0714i-keui_4': 0.27805316309445327,\n",
       " 'HPSI0514i-fiaj_1': 0.32511729106728177,\n",
       " 'HPSI0115i-timk_4': 0.3208488827662866,\n",
       " 'HPSI0114i-eipl_1': 0.2828613150264171}"
      ]
     },
     "execution_count": 50,
     "metadata": {},
     "output_type": "execute_result"
    }
   ],
   "source": [
    "low_low_dict"
   ]
  },
  {
   "cell_type": "code",
   "execution_count": 51,
   "id": "01ca55e3-f5c3-4d9d-b22d-874543287517",
   "metadata": {},
   "outputs": [
    {
     "data": {
      "text/plain": [
       "{'HPSI0715i-aowh_2': 0.234411277246421,\n",
       " 'HPSI1013i-hiaf_1': 0.2339244794930525,\n",
       " 'HPSI0115i-aoxv_1': 0.24818363621512476}"
      ]
     },
     "execution_count": 51,
     "metadata": {},
     "output_type": "execute_result"
    }
   ],
   "source": [
    "high_low_dict"
   ]
  },
  {
   "cell_type": "code",
   "execution_count": 52,
   "id": "f985fd6d-f740-48a2-976f-b452b9e31280",
   "metadata": {},
   "outputs": [
    {
     "data": {
      "text/plain": [
       "{'HPSI0715i-aowh_2': 0.2575297913001129,\n",
       " 'HPSI1013i-hiaf_1': 0.2547596830465022,\n",
       " 'HPSI0115i-aoxv_1': 0.2690361835640309}"
      ]
     },
     "execution_count": 52,
     "metadata": {},
     "output_type": "execute_result"
    }
   ],
   "source": [
    "high_high_dict"
   ]
  },
  {
   "cell_type": "code",
   "execution_count": 53,
   "id": "bd728f36-8433-4627-a433-08d0cfac614e",
   "metadata": {},
   "outputs": [],
   "source": [
    "import numpy as np\n",
    "import pandas as pd"
   ]
  },
  {
   "cell_type": "code",
   "execution_count": 54,
   "id": "39bc0ad9-31e2-412a-96ca-529d4de71e38",
   "metadata": {},
   "outputs": [],
   "source": [
    "all_values = {\"name\":[], \"type\":[], \"val\":[]}\n",
    "for name, val in high_low_dict.items():\n",
    "    all_values[\"name\"].append( name)\n",
    "    all_values[\"type\"].append(\"high_to_low\")\n",
    "    all_values[\"val\"].append(val) \n",
    "for name, val in low_high_dict.items():\n",
    "    all_values[\"name\"].append(name)\n",
    "    all_values[\"type\"].append(\"high_to_low\")\n",
    "    all_values[\"val\"].append(val)\n",
    "for name, val in low_low_dict.items():\n",
    "    all_values[\"name\"].append(name)\n",
    "    all_values[\"type\"].append(\"low_to_low\")\n",
    "    all_values[\"val\"].append(val)\n",
    "for name, val in high_high_dict.items():\n",
    "    all_values[\"name\"].append(name)\n",
    "    all_values[\"type\"].append(\"high_to_high\")\n",
    "    all_values[\"val\"].append(val)\n"
   ]
  },
  {
   "cell_type": "code",
   "execution_count": 55,
   "id": "450d6460-d62b-403e-b9d7-09f87d0fbc57",
   "metadata": {},
   "outputs": [
    {
     "data": {
      "text/plain": [
       "{'name': ['HPSI0715i-aowh_2',\n",
       "  'HPSI1013i-hiaf_1',\n",
       "  'HPSI0115i-aoxv_1',\n",
       "  'HPSI0714i-keui_4',\n",
       "  'HPSI0514i-fiaj_1',\n",
       "  'HPSI0115i-timk_4',\n",
       "  'HPSI0114i-eipl_1',\n",
       "  'HPSI0714i-keui_4',\n",
       "  'HPSI0514i-fiaj_1',\n",
       "  'HPSI0115i-timk_4',\n",
       "  'HPSI0114i-eipl_1',\n",
       "  'HPSI0715i-aowh_2',\n",
       "  'HPSI1013i-hiaf_1',\n",
       "  'HPSI0115i-aoxv_1'],\n",
       " 'type': ['high_to_low',\n",
       "  'high_to_low',\n",
       "  'high_to_low',\n",
       "  'high_to_low',\n",
       "  'high_to_low',\n",
       "  'high_to_low',\n",
       "  'high_to_low',\n",
       "  'low_to_low',\n",
       "  'low_to_low',\n",
       "  'low_to_low',\n",
       "  'low_to_low',\n",
       "  'high_to_high',\n",
       "  'high_to_high',\n",
       "  'high_to_high'],\n",
       " 'val': [0.234411277246421,\n",
       "  0.2339244794930525,\n",
       "  0.24818363621512476,\n",
       "  0.22834717136380506,\n",
       "  0.24928223289093593,\n",
       "  0.2637999473154303,\n",
       "  0.2139298390359597,\n",
       "  0.27805316309445327,\n",
       "  0.32511729106728177,\n",
       "  0.3208488827662866,\n",
       "  0.2828613150264171,\n",
       "  0.2575297913001129,\n",
       "  0.2547596830465022,\n",
       "  0.2690361835640309]}"
      ]
     },
     "execution_count": 55,
     "metadata": {},
     "output_type": "execute_result"
    }
   ],
   "source": [
    "all_values"
   ]
  },
  {
   "cell_type": "code",
   "execution_count": 56,
   "id": "cd5a9d53-50a2-47c4-a16b-6bdb3aaa32c8",
   "metadata": {},
   "outputs": [],
   "source": [
    "all_val = pd.DataFrame.from_dict(all_values)"
   ]
  },
  {
   "cell_type": "code",
   "execution_count": 57,
   "id": "559a0d8e-9839-4ad2-845d-91184bd77c82",
   "metadata": {},
   "outputs": [],
   "source": [
    "me_val = all_val.groupby(by=[\"type\"])[\"val\"].median().iloc[::-1]\n",
    "order = pd.Index(['low_to_low', 'high_to_high', 'high_to_low'], dtype='object', name='type')"
   ]
  },
  {
   "cell_type": "code",
   "execution_count": 58,
   "id": "b74c974b-1d26-469c-a2ad-03b0b890a1f5",
   "metadata": {},
   "outputs": [
    {
     "data": {
      "text/plain": [
       "type\n",
       "low_to_low      0.301855\n",
       "high_to_low     0.234411\n",
       "high_to_high    0.257530\n",
       "Name: val, dtype: float64"
      ]
     },
     "execution_count": 58,
     "metadata": {},
     "output_type": "execute_result"
    }
   ],
   "source": [
    "me_val"
   ]
  },
  {
   "cell_type": "code",
   "execution_count": 29,
   "id": "4a10cbcb-e0c8-44d2-896c-ed61f642d303",
   "metadata": {},
   "outputs": [
    {
     "data": {
      "image/png": "[encoded data removed]",
      "text/plain": [
       "<Figure size 504x504 with 1 Axes>"
      ]
     },
     "metadata": {
      "needs_background": "light"
     },
     "output_type": "display_data"
    }
   ],
   "source": [
    "fig, ax = plt.subplots(figsize=(7,7))\n",
    "ax = sns.boxplot(x=\"type\", y=\"val\", data=all_val, ax=ax, order=order)\n",
    "ax = sns.swarmplot(x=\"type\", y=\"val\", data=all_val, color=\".25\", ax=ax, size=10, order=order)"
   ]
  },
  {
   "cell_type": "code",
   "execution_count": 30,
   "id": "d3bf9ec6-d124-4c96-af26-1b6781eb1760",
   "metadata": {},
   "outputs": [
    {
     "name": "stdout",
     "output_type": "stream",
     "text": [
      "% This file was created by tikzplotlib v0.9.8.\n",
      "\\begin{tikzpicture}\n",
      "\n",
      "\\definecolor{color0}{rgb}{0.194607843137255,0.453431372549019,0.632843137254902}\n",
      "\\definecolor{color1}{rgb}{0.881862745098039,0.505392156862745,0.173039215686275}\n",
      "\\definecolor{color2}{rgb}{0.229411764705882,0.570588235294118,0.229411764705882}\n",
      "\n",
      "\\begin{axis}[\n",
      "tick align=outside,\n",
      "tick pos=left,\n",
      "x grid style={white!69.0196078431373!black},\n",
      "xlabel={type},\n",
      "xmin=-0.5, xmax=2.5,\n",
      "xtick style={color=black},\n",
      "xtick={0,1,2},\n",
      "xticklabels={low\\_to\\_low,high\\_to\\_high,high\\_to\\_low},\n",
      "y grid style={white!69.0196078431373!black},\n",
      "ylabel={val},\n",
      "ymin=0.193944456562779, ymax=0.309031500320449,\n",
      "ytick style={color=black},\n",
      "ytick={0.18,0.2,0.22,0.24,0.26,0.28,0.3,0.32},\n",
      "yticklabels={0.18,0.20,0.22,0.24,0.26,0.28,0.30,0.32}\n",
      "]\n",
      "\\path [draw=white!23.921568627451!black, fill=color0, semithick]\n",
      "(axis cs:-0.4,0.264601175281436)\n",
      "--(axis cs:0.4,0.264601175281436)\n",
      "--(axis cs:0.4,0.303175513990669)\n",
      "--(axis cs:-0.4,0.303175513990669)\n",
      "--(axis cs:-0.4,0.264601175281436)\n",
      "--cycle;\n",
      "\\path [draw=white!23.921568627451!black, fill=color1, semithick]\n",
      "(axis cs:0.6,0.239350824975331)\n",
      "--(axis cs:1.4,0.239350824975331)\n",
      "--(axis cs:1.4,0.24727888983227)\n",
      "--(axis cs:0.6,0.24727888983227)\n",
      "--(axis cs:0.6,0.239350824975331)\n",
      "--cycle;\n",
      "\\path [draw=white!23.921568627451!black, fill=color2, semithick]\n",
      "(axis cs:1.6,0.212727114741936)\n",
      "--(axis cs:2.4,0.212727114741936)\n",
      "--(axis cs:2.4,0.228165675617815)\n",
      "--(axis cs:1.6,0.228165675617815)\n",
      "--(axis cs:1.6,0.212727114741936)\n",
      "--cycle;\n",
      "\\addplot [semithick, white!23.921568627451!black]\n",
      "table {%\n",
      "0 0.264601175281436\n",
      "0 0.260482655094712\n",
      "};\n",
      "\\addplot [semithick, white!23.921568627451!black]\n",
      "table {%\n",
      "0 0.303175513990669\n",
      "0 0.303800271058737\n",
      "};\n",
      "\\addplot [semithick, white!23.921568627451!black]\n",
      "table {%\n",
      "-0.2 0.260482655094712\n",
      "0.2 0.260482655094712\n",
      "};\n",
      "\\addplot [semithick, white!23.921568627451!black]\n",
      "table {%\n",
      "-0.2 0.303800271058737\n",
      "0.2 0.303800271058737\n",
      "};\n",
      "\\addplot [semithick, white!23.921568627451!black]\n",
      "table {%\n",
      "1 0.239350824975331\n",
      "1 0.237971658447534\n",
      "};\n",
      "\\addplot [semithick, white!23.921568627451!black]\n",
      "table {%\n",
      "1 0.24727888983227\n",
      "1 0.253827788161412\n",
      "};\n",
      "\\addplot [semithick, white!23.921568627451!black]\n",
      "table {%\n",
      "0.8 0.237971658447534\n",
      "1.2 0.237971658447534\n",
      "};\n",
      "\\addplot [semithick, white!23.921568627451!black]\n",
      "table {%\n",
      "0.8 0.253827788161412\n",
      "1.2 0.253827788161412\n",
      "};\n",
      "\\addplot [semithick, white!23.921568627451!black]\n",
      "table {%\n",
      "2 0.212727114741936\n",
      "2 0.199175685824492\n",
      "};\n",
      "\\addplot [semithick, white!23.921568627451!black]\n",
      "table {%\n",
      "2 0.228165675617815\n",
      "2 0.245879516175358\n",
      "};\n",
      "\\addplot [semithick, white!23.921568627451!black]\n",
      "table {%\n",
      "1.8 0.199175685824492\n",
      "2.2 0.199175685824492\n",
      "};\n",
      "\\addplot [semithick, white!23.921568627451!black]\n",
      "table {%\n",
      "1.8 0.245879516175358\n",
      "2.2 0.245879516175358\n",
      "};\n",
      "\\addplot [semithick, white!23.921568627451!black]\n",
      "table {%\n",
      "-0.4 0.284470638489162\n",
      "0.4 0.284470638489162\n",
      "};\n",
      "\\addplot [semithick, white!23.921568627451!black]\n",
      "table {%\n",
      "0.6 0.240729991503127\n",
      "1.4 0.240729991503127\n",
      "};\n",
      "\\addplot [semithick, white!23.921568627451!black]\n",
      "table {%\n",
      "1.6 0.215530303456075\n",
      "2.4 0.215530303456075\n",
      "};\n",
      "\\addplot [\n",
      "  draw=white!14.9019607843137!black,\n",
      "  mark=*,\n",
      "  only marks,\n",
      "  scatter,\n",
      "  scatter/@post marker code/.code={%\n",
      "  \\endscope\n",
      "},\n",
      "  scatter/@pre marker code/.code={%\n",
      "  \\expanded{%\n",
      "  \\noexpand\\definecolor{thispointdrawcolor}{RGB}{\\drawcolor}%\n",
      "  \\noexpand\\definecolor{thispointfillcolor}{RGB}{\\fillcolor}%\n",
      "  }%\n",
      "  \\scope[draw=thispointdrawcolor, fill=thispointfillcolor]%\n",
      "},\n",
      "  visualization depends on={value \\thisrow{draw} \\as \\drawcolor},\n",
      "  visualization depends on={value \\thisrow{fill} \\as \\fillcolor}\n",
      "]\n",
      "table{%\n",
      "x  y  fill\n",
      "-1.11022302462516e-16 0.260482655094712 63.75,63.75,63.75\n",
      "-1.11022302462516e-16 0.265974015343677 63.75,63.75,63.75\n",
      "-1.11022302462516e-16 0.302967261634646 63.75,63.75,63.75\n",
      "0.0775260481308431 0.303800271058737 63.75,63.75,63.75\n",
      "};\n",
      "\\addplot [\n",
      "  draw=white!14.9019607843137!black,\n",
      "  mark=*,\n",
      "  only marks,\n",
      "  scatter,\n",
      "  scatter/@post marker code/.code={%\n",
      "  \\endscope\n",
      "},\n",
      "  scatter/@pre marker code/.code={%\n",
      "  \\expanded{%\n",
      "  \\noexpand\\definecolor{thispointdrawcolor}{RGB}{\\drawcolor}%\n",
      "  \\noexpand\\definecolor{thispointfillcolor}{RGB}{\\fillcolor}%\n",
      "  }%\n",
      "  \\scope[draw=thispointdrawcolor, fill=thispointfillcolor]%\n",
      "},\n",
      "  visualization depends on={value \\thisrow{draw} \\as \\drawcolor},\n",
      "  visualization depends on={value \\thisrow{fill} \\as \\fillcolor}\n",
      "]\n",
      "table{%\n",
      "x  y  fill\n",
      "1 0.237971658447534 63.75,63.75,63.75\n",
      "0.966921244392429 0.240729991503127 63.75,63.75,63.75\n",
      "1 0.253827788161412 63.75,63.75,63.75\n",
      "};\n",
      "\\addplot [\n",
      "  draw=white!14.9019607843137!black,\n",
      "  mark=*,\n",
      "  only marks,\n",
      "  scatter,\n",
      "  scatter/@post marker code/.code={%\n",
      "  \\endscope\n",
      "},\n",
      "  scatter/@pre marker code/.code={%\n",
      "  \\expanded{%\n",
      "  \\noexpand\\definecolor{thispointdrawcolor}{RGB}{\\drawcolor}%\n",
      "  \\noexpand\\definecolor{thispointfillcolor}{RGB}{\\fillcolor}%\n",
      "  }%\n",
      "  \\scope[draw=thispointdrawcolor, fill=thispointfillcolor]%\n",
      "},\n",
      "  visualization depends on={value \\thisrow{draw} \\as \\drawcolor},\n",
      "  visualization depends on={value \\thisrow{fill} \\as \\fillcolor}\n",
      "]\n",
      "table{%\n",
      "x  y  fill\n",
      "2 0.199175685824492 63.75,63.75,63.75\n",
      "2 0.211724080988088 63.75,63.75,63.75\n",
      "1.93964744043187 0.213730148495785 63.75,63.75,63.75\n",
      "2.00445224751276 0.215530303456075 63.75,63.75,63.75\n",
      "2 0.224575623398021 63.75,63.75,63.75\n",
      "2 0.231755727837609 63.75,63.75,63.75\n",
      "2 0.245879516175358 63.75,63.75,63.75\n",
      "};\n",
      "\\end{axis}\n",
      "\n",
      "\\end{tikzpicture}\n",
      "\n"
     ]
    },
    {
     "data": {
      "text/plain": [
       "<Figure size 432x288 with 0 Axes>"
      ]
     },
     "metadata": {},
     "output_type": "display_data"
    }
   ],
   "source": [
    "import tikzplotlib\n",
    "tikzplotlib.clean_figure()\n",
    "print(tikzplotlib.get_tikz_code(figure=fig))"
   ]
  },
  {
   "cell_type": "code",
   "execution_count": null,
   "id": "c7a7387f-6611-41b4-800f-581d039db15f",
   "metadata": {},
   "outputs": [],
   "source": []
  },
  {
   "cell_type": "code",
   "execution_count": null,
   "id": "b5e07a37-a396-4be1-9f35-4ecad783cd73",
   "metadata": {},
   "outputs": [],
   "source": []
  },
  {
   "cell_type": "code",
   "execution_count": null,
   "id": "76fe1aba-6181-4634-9aa6-466445cc19d1",
   "metadata": {},
   "outputs": [],
   "source": []
  },
  {
   "cell_type": "code",
   "execution_count": null,
   "id": "47418629-28cb-4526-b1fd-16fef9358bca",
   "metadata": {},
   "outputs": [],
   "source": []
  },
  {
   "cell_type": "code",
   "execution_count": null,
   "id": "1cbdfdfc-4cb6-4b9a-986c-9579dc778a31",
   "metadata": {},
   "outputs": [],
   "source": []
  },
  {
   "cell_type": "code",
   "execution_count": null,
   "id": "fadfafe2-8670-4cd8-88be-5af24fc3d6a0",
   "metadata": {},
   "outputs": [],
   "source": []
  },
  {
   "cell_type": "code",
   "execution_count": null,
   "id": "eb49600d-24b9-4110-aa56-840f90168fb5",
   "metadata": {},
   "outputs": [],
   "source": []
  },
  {
   "cell_type": "code",
   "execution_count": null,
   "id": "11834f68-4507-4ac6-8cdc-857a73d9e541",
   "metadata": {},
   "outputs": [],
   "source": []
  }
 ],
 "metadata": {
  "kernelspec": {
   "display_name": "Python 3",
   "language": "python",
   "name": "python3"
  },
  "language_info": {
   "codemirror_mode": {
    "name": "ipython",
    "version": 3
   },
   "file_extension": ".py",
   "mimetype": "text/x-python",
   "name": "python",
   "nbconvert_exporter": "python",
   "pygments_lexer": "ipython3",
   "version": "3.7.9"
  }
 },
 "nbformat": 4,
 "nbformat_minor": 5
}
